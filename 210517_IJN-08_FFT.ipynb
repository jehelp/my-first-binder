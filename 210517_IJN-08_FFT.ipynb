{
 "cells": [
  {
   "cell_type": "markdown",
   "metadata": {},
   "source": [
    "# Discrete Fourier Transform"
   ]
  },
  {
   "cell_type": "code",
   "execution_count": 73,
   "metadata": {
    "collapsed": true
   },
   "outputs": [],
   "source": [
    "def impDat(datFil):\n",
    "    \"\"\"\n",
    "    Purpose: Import signal\n",
    "    Methode: numpy\n",
    "    Syntax: impDat('filename.csv')\n",
    "    In:\n",
    "     - datFil: filename, csv format (time, value)\n",
    "    Out:\n",
    "     - dat: numpy array (time, value)\n",
    "    \"\"\"\n",
    "    dat = np.loadtxt(datFil, delimiter=',')\n",
    "    \n",
    "    return dat"
   ]
  },
  {
   "cell_type": "code",
   "execution_count": 74,
   "metadata": {
    "collapsed": true
   },
   "outputs": [],
   "source": [
    "def impDat2(datFil):\n",
    "    \"\"\"\n",
    "    Purpose: Import signal\n",
    "    Method: Pandas\n",
    "    Syntax: impDat2('filename.csv')\n",
    "    In:\n",
    "     - datFil: filename, csv format (time, value)\n",
    "    Out:\n",
    "     - dat: numpy array (time, value)\n",
    "    \"\"\"\n",
    "    dat = pd.read_csv(datFil, sep=',',header=None)    \n",
    "    dat = dat.values  # convert Pandas dataframe into numpy array\n",
    "    \n",
    "    return dat"
   ]
  },
  {
   "cell_type": "code",
   "execution_count": 76,
   "metadata": {
    "collapsed": true
   },
   "outputs": [],
   "source": [
    "def customDFT(dat):\n",
    "    \"\"\"\n",
    "    Purpose: Custom Discrete Fourier Transform (DFT)\n",
    "    Note: Frequency resolution is improved adding N 0's in the signal\n",
    "    In:\n",
    "     - dat: signal as a numpy array (time, value)\n",
    "    Out:\n",
    "     - N: # of signal samples\n",
    "     - dt: sampling rate (time step)\n",
    "     - DFT: DFT amplitudes\n",
    "     - f: frequencies\n",
    "    \"\"\"\n",
    "    # Sampling rate and size\n",
    "    dt = dat[2][0]-dat[1][0]\n",
    "    N = np.size(dat[:,0])\n",
    "    N = int(N)\n",
    "\n",
    "    # Add N zero's to impove freq. resolution\n",
    "    M = 2*N\n",
    "    data = np.zeros((M,2))\n",
    "    for i in range(N):\n",
    "        data[i,0] = dat[i,0]\n",
    "        data[i,1] = dat[i,1]\n",
    "        data[N+i,0] = dat[-1,0]+(i+1)*dt\n",
    "\n",
    "    # Compute DFT and force 'true' conjugate for negative freq.\n",
    "    X = np.fft.fft(data[:,1])\n",
    "    for i in range(N):\n",
    "        X[M-1-i] = np.conj(X[i+1])\n",
    "\n",
    "    f = np.fft.fftfreq(M, dt)\n",
    "    \n",
    "    return N,dt,X,f"
   ]
  },
  {
   "cell_type": "code",
   "execution_count": 77,
   "metadata": {},
   "outputs": [
    {
     "data": {
      "image/png": "[encoded data removed]",
      "text/plain": [
       "<matplotlib.figure.Figure at 0x1060a8cf8>"
      ]
     },
     "metadata": {},
     "output_type": "display_data"
    }
   ],
   "source": [
    "import numpy as np\n",
    "import pandas as pd\n",
    "import matplotlib.pyplot as plt\n",
    "\n",
    "# import sampled signal\n",
    "dat = impDat2('acce.csv')\n",
    "\n",
    "# compute DFT\n",
    "N,dt,X,f = customDFT(dat)\n",
    "\n",
    "# plot DFT amplitude vs. frquency\n",
    "plt.figure(figsize = (15, 6))\n",
    "plt.stem(f[0:N], abs(X[0:N]), 'b', \\\n",
    "         markerfmt=\" \", basefmt=\"-b\")\n",
    "plt.xlabel('Freq (Hz)')\n",
    "plt.ylabel('DFT Amplitude |X(f)|')\n",
    "plt.show()"
   ]
  },
  {
   "cell_type": "code",
   "execution_count": null,
   "metadata": {
    "collapsed": true
   },
   "outputs": [],
   "source": []
  }
 ],
 "metadata": {
  "kernelspec": {
   "display_name": "Python 3",
   "language": "python",
   "name": "python3"
  },
  "language_info": {
   "codemirror_mode": {
    "name": "ipython",
    "version": 3
   },
   "file_extension": ".py",
   "mimetype": "text/x-python",
   "name": "python",
   "nbconvert_exporter": "python",
   "pygments_lexer": "ipython3",
   "version": "3.6.1"
  }
 },
 "nbformat": 4,
 "nbformat_minor": 2
}
